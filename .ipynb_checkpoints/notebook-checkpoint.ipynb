{
 "cells": [
  {
   "cell_type": "markdown",
   "id": "213a4d8e",
   "metadata": {},
   "source": [
    "# Final Data Science Capstone Project"
   ]
  },
  {
   "cell_type": "markdown",
   "id": "75781375",
   "metadata": {},
   "source": [
    "#### The goal: Start a competitor to SpaceX - predict what is the probability that the first stage of the rocket won't be recoverable, and how that might affect the price of the launch. "
   ]
  }
 ],
 "metadata": {
  "kernelspec": {
   "display_name": "Python 3",
   "language": "python",
   "name": "python3"
  },
  "language_info": {
   "codemirror_mode": {
    "name": "ipython",
    "version": 3
   },
   "file_extension": ".py",
   "mimetype": "text/x-python",
   "name": "python",
   "nbconvert_exporter": "python",
   "pygments_lexer": "ipython3",
   "version": "3.6.9"
  }
 },
 "nbformat": 4,
 "nbformat_minor": 5
}
