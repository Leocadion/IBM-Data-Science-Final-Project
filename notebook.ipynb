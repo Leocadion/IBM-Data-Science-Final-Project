{
 "cells": [
  {
   "cell_type": "markdown",
   "id": "3d448a13",
   "metadata": {},
   "source": [
    "# Final Data Science Capstone Project"
   ]
  },
  {
   "cell_type": "markdown",
   "id": "ce8b812e",
   "metadata": {},
   "source": [
    "#### The goal: Start a competitor to SpaceX - predict what is the probability that the first stage of the rocket won't be recoverable, and how that might affect the price of the launch. "
   ]
  },
  {
   "cell_type": "markdown",
   "id": "cb873c28",
   "metadata": {},
   "source": [
    "Gonna use git: set up an ssh key, then do git remote set-url origin git@github.com:USERNAME/REPOSITORY.git to not have to enter credentials each time. \n",
    "\n",
    "git add . to add all files in the directory,\n",
    "git status to view changes\n",
    "git commit -m \"message\" to add changes to local repository\n"
   ]
  }
 ],
 "metadata": {
  "kernelspec": {
   "display_name": "Python 3",
   "language": "python",
   "name": "python3"
  },
  "language_info": {
   "codemirror_mode": {
    "name": "ipython",
    "version": 3
   },
   "file_extension": ".py",
   "mimetype": "text/x-python",
   "name": "python",
   "nbconvert_exporter": "python",
   "pygments_lexer": "ipython3",
   "version": "3.6.9"
  }
 },
 "nbformat": 4,
 "nbformat_minor": 5
}
